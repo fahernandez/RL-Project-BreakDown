{
 "cells": [
  {
   "cell_type": "code",
   "execution_count": 110,
   "outputs": [],
   "source": [
    "import glob\n",
    "import pandas as pd\n",
    "import numpy as np\n",
    "import math\n",
    "from matplotlib import pyplot as plt"
   ],
   "metadata": {
    "collapsed": false,
    "pycharm": {
     "name": "#%%\n"
    }
   }
  },
  {
   "cell_type": "markdown",
   "metadata": {
    "collapsed": true,
    "pycharm": {
     "name": "#%% md\n"
    }
   },
   "source": [
    "# Get the amount of points received by experiment, execution and episode"
   ]
  },
  {
   "cell_type": "code",
   "execution_count": 64,
   "outputs": [],
   "source": [
    "cols = ['experiment', 'execution', 'episode', 'point']\n",
    "result = pd.DataFrame(columns=cols)\n",
    "for f in glob.glob(\"./execution/*/*/total_point.npy\"):\n",
    "    path = f.split('/')\n",
    "    exp = path[2].split('_')[1]\n",
    "    exec = path[3].split('_')[1]\n",
    "    points = np.load(f)\n",
    "    episodes = range(1, 1000+1)\n",
    "    experiment = pd.DataFrame({\n",
    "        'experiment': [int(exp) for _ in episodes],\n",
    "        'execution': [int(exec) for _ in episodes],\n",
    "        'episode': [i for i in episodes],\n",
    "        'point': points,\n",
    "    })\n",
    "    result = pd.concat([result, experiment])\n",
    "result = result.sort_values(by=cols).reset_index(drop=True)"
   ],
   "metadata": {
    "collapsed": false,
    "pycharm": {
     "name": "#%%\n"
    }
   }
  },
  {
   "cell_type": "code",
   "execution_count": 82,
   "outputs": [
    {
     "data": {
      "text/plain": "      experiment execution episode point\n19995          4         5     996  16.0\n19996          4         5     997   6.0\n19997          4         5     998   3.0\n19998          4         5     999  12.0\n19999          4         5    1000  22.0",
      "text/html": "<div>\n<style scoped>\n    .dataframe tbody tr th:only-of-type {\n        vertical-align: middle;\n    }\n\n    .dataframe tbody tr th {\n        vertical-align: top;\n    }\n\n    .dataframe thead th {\n        text-align: right;\n    }\n</style>\n<table border=\"1\" class=\"dataframe\">\n  <thead>\n    <tr style=\"text-align: right;\">\n      <th></th>\n      <th>experiment</th>\n      <th>execution</th>\n      <th>episode</th>\n      <th>point</th>\n    </tr>\n  </thead>\n  <tbody>\n    <tr>\n      <th>19995</th>\n      <td>4</td>\n      <td>5</td>\n      <td>996</td>\n      <td>16.0</td>\n    </tr>\n    <tr>\n      <th>19996</th>\n      <td>4</td>\n      <td>5</td>\n      <td>997</td>\n      <td>6.0</td>\n    </tr>\n    <tr>\n      <th>19997</th>\n      <td>4</td>\n      <td>5</td>\n      <td>998</td>\n      <td>3.0</td>\n    </tr>\n    <tr>\n      <th>19998</th>\n      <td>4</td>\n      <td>5</td>\n      <td>999</td>\n      <td>12.0</td>\n    </tr>\n    <tr>\n      <th>19999</th>\n      <td>4</td>\n      <td>5</td>\n      <td>1000</td>\n      <td>22.0</td>\n    </tr>\n  </tbody>\n</table>\n</div>"
     },
     "execution_count": 82,
     "metadata": {},
     "output_type": "execute_result"
    }
   ],
   "source": [
    "result.tail()"
   ],
   "metadata": {
    "collapsed": false,
    "pycharm": {
     "name": "#%%\n"
    }
   }
  },
  {
   "cell_type": "markdown",
   "source": [],
   "metadata": {
    "collapsed": false,
    "pycharm": {
     "name": "#%% md\n"
    }
   }
  },
  {
   "cell_type": "markdown",
   "source": [
    "## Point average by experiment"
   ],
   "metadata": {
    "collapsed": false,
    "pycharm": {
     "name": "#%% md\n"
    }
   }
  },
  {
   "cell_type": "code",
   "execution_count": 67,
   "outputs": [
    {
     "data": {
      "text/plain": "             point\nexperiment        \n1           2.7840\n2           4.8602\n3           4.3758\n4           7.1172",
      "text/html": "<div>\n<style scoped>\n    .dataframe tbody tr th:only-of-type {\n        vertical-align: middle;\n    }\n\n    .dataframe tbody tr th {\n        vertical-align: top;\n    }\n\n    .dataframe thead th {\n        text-align: right;\n    }\n</style>\n<table border=\"1\" class=\"dataframe\">\n  <thead>\n    <tr style=\"text-align: right;\">\n      <th></th>\n      <th>point</th>\n    </tr>\n    <tr>\n      <th>experiment</th>\n      <th></th>\n    </tr>\n  </thead>\n  <tbody>\n    <tr>\n      <th>1</th>\n      <td>2.7840</td>\n    </tr>\n    <tr>\n      <th>2</th>\n      <td>4.8602</td>\n    </tr>\n    <tr>\n      <th>3</th>\n      <td>4.3758</td>\n    </tr>\n    <tr>\n      <th>4</th>\n      <td>7.1172</td>\n    </tr>\n  </tbody>\n</table>\n</div>"
     },
     "execution_count": 67,
     "metadata": {},
     "output_type": "execute_result"
    }
   ],
   "source": [
    "result[['experiment','point']].groupby(['experiment']).mean()"
   ],
   "metadata": {
    "collapsed": false,
    "pycharm": {
     "name": "#%%\n"
    }
   }
  },
  {
   "cell_type": "markdown",
   "source": [
    "## Point average by experiment and execution"
   ],
   "metadata": {
    "collapsed": false,
    "pycharm": {
     "name": "#%% md\n"
    }
   }
  },
  {
   "cell_type": "code",
   "execution_count": 69,
   "outputs": [
    {
     "data": {
      "text/plain": "                       point\nexperiment execution        \n1          1           2.644\n           2           4.044\n           3           2.481\n           4           2.340\n           5           2.411\n2          1          11.091\n           2           4.465\n           3           3.907\n           4           2.250\n           5           2.588\n3          1           4.646\n           2           5.433\n           3           4.248\n           4           3.632\n           5           3.920\n4          1           2.447\n           2          10.190\n           3          12.935\n           4           4.158\n           5           5.856",
      "text/html": "<div>\n<style scoped>\n    .dataframe tbody tr th:only-of-type {\n        vertical-align: middle;\n    }\n\n    .dataframe tbody tr th {\n        vertical-align: top;\n    }\n\n    .dataframe thead th {\n        text-align: right;\n    }\n</style>\n<table border=\"1\" class=\"dataframe\">\n  <thead>\n    <tr style=\"text-align: right;\">\n      <th></th>\n      <th></th>\n      <th>point</th>\n    </tr>\n    <tr>\n      <th>experiment</th>\n      <th>execution</th>\n      <th></th>\n    </tr>\n  </thead>\n  <tbody>\n    <tr>\n      <th rowspan=\"5\" valign=\"top\">1</th>\n      <th>1</th>\n      <td>2.644</td>\n    </tr>\n    <tr>\n      <th>2</th>\n      <td>4.044</td>\n    </tr>\n    <tr>\n      <th>3</th>\n      <td>2.481</td>\n    </tr>\n    <tr>\n      <th>4</th>\n      <td>2.340</td>\n    </tr>\n    <tr>\n      <th>5</th>\n      <td>2.411</td>\n    </tr>\n    <tr>\n      <th rowspan=\"5\" valign=\"top\">2</th>\n      <th>1</th>\n      <td>11.091</td>\n    </tr>\n    <tr>\n      <th>2</th>\n      <td>4.465</td>\n    </tr>\n    <tr>\n      <th>3</th>\n      <td>3.907</td>\n    </tr>\n    <tr>\n      <th>4</th>\n      <td>2.250</td>\n    </tr>\n    <tr>\n      <th>5</th>\n      <td>2.588</td>\n    </tr>\n    <tr>\n      <th rowspan=\"5\" valign=\"top\">3</th>\n      <th>1</th>\n      <td>4.646</td>\n    </tr>\n    <tr>\n      <th>2</th>\n      <td>5.433</td>\n    </tr>\n    <tr>\n      <th>3</th>\n      <td>4.248</td>\n    </tr>\n    <tr>\n      <th>4</th>\n      <td>3.632</td>\n    </tr>\n    <tr>\n      <th>5</th>\n      <td>3.920</td>\n    </tr>\n    <tr>\n      <th rowspan=\"5\" valign=\"top\">4</th>\n      <th>1</th>\n      <td>2.447</td>\n    </tr>\n    <tr>\n      <th>2</th>\n      <td>10.190</td>\n    </tr>\n    <tr>\n      <th>3</th>\n      <td>12.935</td>\n    </tr>\n    <tr>\n      <th>4</th>\n      <td>4.158</td>\n    </tr>\n    <tr>\n      <th>5</th>\n      <td>5.856</td>\n    </tr>\n  </tbody>\n</table>\n</div>"
     },
     "execution_count": 69,
     "metadata": {},
     "output_type": "execute_result"
    }
   ],
   "source": [
    "result[['experiment','execution','point']].groupby(['experiment', 'execution']).mean()"
   ],
   "metadata": {
    "collapsed": false,
    "pycharm": {
     "name": "#%%\n"
    }
   }
  },
  {
   "cell_type": "markdown",
   "source": [
    "## Point average by experiment for the last hundred episodes"
   ],
   "metadata": {
    "collapsed": false,
    "pycharm": {
     "name": "#%% md\n"
    }
   }
  },
  {
   "cell_type": "code",
   "execution_count": 93,
   "outputs": [
    {
     "data": {
      "text/plain": "      experiment execution point\n900            1         1   2.0\n901            1         1   2.0\n902            1         1   2.0\n903            1         1   2.0\n904            1         1   5.0\n...          ...       ...   ...\n19995          4         5  16.0\n19996          4         5   6.0\n19997          4         5   3.0\n19998          4         5  12.0\n19999          4         5  22.0\n\n[2000 rows x 3 columns]",
      "text/html": "<div>\n<style scoped>\n    .dataframe tbody tr th:only-of-type {\n        vertical-align: middle;\n    }\n\n    .dataframe tbody tr th {\n        vertical-align: top;\n    }\n\n    .dataframe thead th {\n        text-align: right;\n    }\n</style>\n<table border=\"1\" class=\"dataframe\">\n  <thead>\n    <tr style=\"text-align: right;\">\n      <th></th>\n      <th>experiment</th>\n      <th>execution</th>\n      <th>point</th>\n    </tr>\n  </thead>\n  <tbody>\n    <tr>\n      <th>900</th>\n      <td>1</td>\n      <td>1</td>\n      <td>2.0</td>\n    </tr>\n    <tr>\n      <th>901</th>\n      <td>1</td>\n      <td>1</td>\n      <td>2.0</td>\n    </tr>\n    <tr>\n      <th>902</th>\n      <td>1</td>\n      <td>1</td>\n      <td>2.0</td>\n    </tr>\n    <tr>\n      <th>903</th>\n      <td>1</td>\n      <td>1</td>\n      <td>2.0</td>\n    </tr>\n    <tr>\n      <th>904</th>\n      <td>1</td>\n      <td>1</td>\n      <td>5.0</td>\n    </tr>\n    <tr>\n      <th>...</th>\n      <td>...</td>\n      <td>...</td>\n      <td>...</td>\n    </tr>\n    <tr>\n      <th>19995</th>\n      <td>4</td>\n      <td>5</td>\n      <td>16.0</td>\n    </tr>\n    <tr>\n      <th>19996</th>\n      <td>4</td>\n      <td>5</td>\n      <td>6.0</td>\n    </tr>\n    <tr>\n      <th>19997</th>\n      <td>4</td>\n      <td>5</td>\n      <td>3.0</td>\n    </tr>\n    <tr>\n      <th>19998</th>\n      <td>4</td>\n      <td>5</td>\n      <td>12.0</td>\n    </tr>\n    <tr>\n      <th>19999</th>\n      <td>4</td>\n      <td>5</td>\n      <td>22.0</td>\n    </tr>\n  </tbody>\n</table>\n<p>2000 rows × 3 columns</p>\n</div>"
     },
     "execution_count": 93,
     "metadata": {},
     "output_type": "execute_result"
    }
   ],
   "source": [
    "result.loc[result['episode'] > 900][['experiment','execution','point']]"
   ],
   "metadata": {
    "collapsed": false,
    "pycharm": {
     "name": "#%%\n"
    }
   }
  },
  {
   "cell_type": "code",
   "execution_count": 97,
   "outputs": [
    {
     "data": {
      "text/plain": "                      point\nexperiment execution       \n1          1           2.93\n           2           4.88\n           3           2.95\n           4           2.27\n           5           2.68\n2          1          16.06\n           2           5.07\n           3           4.22\n           4           2.24\n           5           2.88\n3          1           4.76\n           2           7.28\n           3           4.25\n           4           5.32\n           5           5.20\n4          1           2.58\n           2          17.75\n           3          18.20\n           4           3.87\n           5          11.00",
      "text/html": "<div>\n<style scoped>\n    .dataframe tbody tr th:only-of-type {\n        vertical-align: middle;\n    }\n\n    .dataframe tbody tr th {\n        vertical-align: top;\n    }\n\n    .dataframe thead th {\n        text-align: right;\n    }\n</style>\n<table border=\"1\" class=\"dataframe\">\n  <thead>\n    <tr style=\"text-align: right;\">\n      <th></th>\n      <th></th>\n      <th>point</th>\n    </tr>\n    <tr>\n      <th>experiment</th>\n      <th>execution</th>\n      <th></th>\n    </tr>\n  </thead>\n  <tbody>\n    <tr>\n      <th rowspan=\"5\" valign=\"top\">1</th>\n      <th>1</th>\n      <td>2.93</td>\n    </tr>\n    <tr>\n      <th>2</th>\n      <td>4.88</td>\n    </tr>\n    <tr>\n      <th>3</th>\n      <td>2.95</td>\n    </tr>\n    <tr>\n      <th>4</th>\n      <td>2.27</td>\n    </tr>\n    <tr>\n      <th>5</th>\n      <td>2.68</td>\n    </tr>\n    <tr>\n      <th rowspan=\"5\" valign=\"top\">2</th>\n      <th>1</th>\n      <td>16.06</td>\n    </tr>\n    <tr>\n      <th>2</th>\n      <td>5.07</td>\n    </tr>\n    <tr>\n      <th>3</th>\n      <td>4.22</td>\n    </tr>\n    <tr>\n      <th>4</th>\n      <td>2.24</td>\n    </tr>\n    <tr>\n      <th>5</th>\n      <td>2.88</td>\n    </tr>\n    <tr>\n      <th rowspan=\"5\" valign=\"top\">3</th>\n      <th>1</th>\n      <td>4.76</td>\n    </tr>\n    <tr>\n      <th>2</th>\n      <td>7.28</td>\n    </tr>\n    <tr>\n      <th>3</th>\n      <td>4.25</td>\n    </tr>\n    <tr>\n      <th>4</th>\n      <td>5.32</td>\n    </tr>\n    <tr>\n      <th>5</th>\n      <td>5.20</td>\n    </tr>\n    <tr>\n      <th rowspan=\"5\" valign=\"top\">4</th>\n      <th>1</th>\n      <td>2.58</td>\n    </tr>\n    <tr>\n      <th>2</th>\n      <td>17.75</td>\n    </tr>\n    <tr>\n      <th>3</th>\n      <td>18.20</td>\n    </tr>\n    <tr>\n      <th>4</th>\n      <td>3.87</td>\n    </tr>\n    <tr>\n      <th>5</th>\n      <td>11.00</td>\n    </tr>\n  </tbody>\n</table>\n</div>"
     },
     "execution_count": 97,
     "metadata": {},
     "output_type": "execute_result"
    }
   ],
   "source": [
    "result.loc[result['episode'] > 900]\\\n",
    "[['experiment','execution','point']].\\\n",
    "groupby(['experiment', 'execution']).mean()"
   ],
   "metadata": {
    "collapsed": false,
    "pycharm": {
     "name": "#%%\n"
    }
   }
  },
  {
   "cell_type": "markdown",
   "source": [
    "# Get confidence of intervals each 50 episodes"
   ],
   "metadata": {
    "collapsed": false,
    "pycharm": {
     "name": "#%% md\n"
    }
   }
  },
  {
   "cell_type": "code",
   "execution_count": 242,
   "outputs": [],
   "source": [
    "result_ci = pd.DataFrame(columns=['experiment','mean','ci95_hi','ci95_lo','percentile'])\n",
    "split = 50\n",
    "experiment_total = 5\n",
    "for k in range (0, int(1000/split)):\n",
    "    stats = result.loc[(result['episode'] >= split*k) & (result['episode'] < split*k+split)]\\\n",
    "        [['experiment', 'execution','point']].\\\n",
    "        groupby(['experiment', 'execution']).agg(['mean', 'count']).sort_values(['experiment'])\n",
    "\n",
    "    ci95_hi = []\n",
    "    ci95_lo = []\n",
    "    means = []\n",
    "    for exp in range(1,experiment_total):\n",
    "        m = np.average(stats.loc[exp]['point']['mean'])\n",
    "        c = experiment_total\n",
    "        s = np.std(stats.loc[exp]['point']['mean'])\n",
    "        ci95_hi.append(m + 1.96*s/math.sqrt(c))\n",
    "        ci95_lo.append(m - 1.96*s/math.sqrt(c))\n",
    "        means.append(m)\n",
    "\n",
    "    obs = pd.DataFrame({\n",
    "        'experiment': range(1,experiment_total),\n",
    "        'mean': means,\n",
    "        'ci95_hi': ci95_hi,\n",
    "        'ci95_lo': ci95_lo,\n",
    "        'percentile': (k+1)*split\n",
    "    })\n",
    "\n",
    "    result_ci = pd.concat([result_ci, obs])\n",
    "result_ci = result_ci.sort_values(['experiment','percentile'])"
   ],
   "metadata": {
    "collapsed": false,
    "pycharm": {
     "name": "#%%\n"
    }
   }
  },
  {
   "cell_type": "code",
   "execution_count": 243,
   "outputs": [
    {
     "data": {
      "text/plain": "  experiment    mean    ci95_hi   ci95_lo percentile\n3          4   8.788  14.014471  3.561529        800\n3          4    9.28  14.500263  4.059737        850\n3          4  10.456  16.241903  4.670097        900\n3          4  10.508  16.311725  4.704275        950\n3          4  10.804  16.620492  4.987508       1000",
      "text/html": "<div>\n<style scoped>\n    .dataframe tbody tr th:only-of-type {\n        vertical-align: middle;\n    }\n\n    .dataframe tbody tr th {\n        vertical-align: top;\n    }\n\n    .dataframe thead th {\n        text-align: right;\n    }\n</style>\n<table border=\"1\" class=\"dataframe\">\n  <thead>\n    <tr style=\"text-align: right;\">\n      <th></th>\n      <th>experiment</th>\n      <th>mean</th>\n      <th>ci95_hi</th>\n      <th>ci95_lo</th>\n      <th>percentile</th>\n    </tr>\n  </thead>\n  <tbody>\n    <tr>\n      <th>3</th>\n      <td>4</td>\n      <td>8.788</td>\n      <td>14.014471</td>\n      <td>3.561529</td>\n      <td>800</td>\n    </tr>\n    <tr>\n      <th>3</th>\n      <td>4</td>\n      <td>9.28</td>\n      <td>14.500263</td>\n      <td>4.059737</td>\n      <td>850</td>\n    </tr>\n    <tr>\n      <th>3</th>\n      <td>4</td>\n      <td>10.456</td>\n      <td>16.241903</td>\n      <td>4.670097</td>\n      <td>900</td>\n    </tr>\n    <tr>\n      <th>3</th>\n      <td>4</td>\n      <td>10.508</td>\n      <td>16.311725</td>\n      <td>4.704275</td>\n      <td>950</td>\n    </tr>\n    <tr>\n      <th>3</th>\n      <td>4</td>\n      <td>10.804</td>\n      <td>16.620492</td>\n      <td>4.987508</td>\n      <td>1000</td>\n    </tr>\n  </tbody>\n</table>\n</div>"
     },
     "execution_count": 243,
     "metadata": {},
     "output_type": "execute_result"
    }
   ],
   "source": [
    "result_ci.tail()"
   ],
   "metadata": {
    "collapsed": false,
    "pycharm": {
     "name": "#%%\n"
    }
   }
  },
  {
   "cell_type": "markdown",
   "source": [
    "# Plot the Confidence intervals each 50 episodes"
   ],
   "metadata": {
    "collapsed": false,
    "pycharm": {
     "name": "#%% md\n"
    }
   }
  },
  {
   "cell_type": "code",
   "execution_count": 260,
   "outputs": [
    {
     "data": {
      "text/plain": "<Figure size 432x288 with 1 Axes>",
      "image/png": "[encoded data removed]"
     },
     "metadata": {
      "needs_background": "light"
     },
     "output_type": "display_data"
    }
   ],
   "source": [
    "# Plot the sinus function\n",
    "exp1 = result_ci.loc[result_ci['experiment']==1]\n",
    "exp2 = result_ci.loc[result_ci['experiment']==2]\n",
    "exp3 = result_ci.loc[result_ci['experiment']==3]\n",
    "exp4 = result_ci.loc[result_ci['experiment']==4]\n",
    "\n",
    "plt.plot(exp1['percentile'], exp1['mean'], c='yellow', marker='o', label='No punish, No Norm')\n",
    "plt.fill_between([i for i in exp1['percentile']], [i for i in exp1['ci95_lo']], [i for i in exp1['ci95_hi']], color='yellow', alpha=.002)\n",
    "\n",
    "plt.plot(exp2['percentile'], exp2['mean'], c='red', marker='v', label='Yes punish, No Norm')\n",
    "# plt.fill_between([i for i in exp2['percentile']], [i for i in exp2['ci95_lo']], [i for i in exp2['ci95_hi']], color='red', alpha=.002)\n",
    "\n",
    "plt.plot(exp3['percentile'], exp3['mean'], c='green', marker='s', label='No punish, Yes Norm')\n",
    "# plt.fill_between([i for i in exp3['percentile']], [i for i in exp3['ci95_lo']], [i for i in exp3['ci95_hi']], color='green', alpha=.002)\n",
    "\n",
    "plt.plot(exp4['percentile'], exp4['mean'], c='blue', marker='+', label='Yes punish, Yes Norm')\n",
    "plt.fill_between([i for i in exp4['percentile']], [i for i in exp4['ci95_lo']], [i for i in exp4['ci95_hi']], color='blue', alpha=.002)\n",
    "\n",
    "plt.legend(loc='upper left')\n",
    "plt.show()"
   ],
   "metadata": {
    "collapsed": false,
    "pycharm": {
     "name": "#%%\n"
    }
   }
  }
 ],
 "metadata": {
  "kernelspec": {
   "display_name": "Python 3",
   "language": "python",
   "name": "python3"
  },
  "language_info": {
   "codemirror_mode": {
    "name": "ipython",
    "version": 2
   },
   "file_extension": ".py",
   "mimetype": "text/x-python",
   "name": "python",
   "nbconvert_exporter": "python",
   "pygments_lexer": "ipython2",
   "version": "2.7.6"
  }
 },
 "nbformat": 4,
 "nbformat_minor": 0
}